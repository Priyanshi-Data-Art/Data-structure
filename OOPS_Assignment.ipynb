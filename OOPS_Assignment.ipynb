{
  "nbformat": 4,
  "nbformat_minor": 0,
  "metadata": {
    "colab": {
      "provenance": [],
      "authorship_tag": "ABX9TyPFHDSMiAtegW4xc6v+u76+",
      "include_colab_link": true
    },
    "kernelspec": {
      "name": "python3",
      "display_name": "Python 3"
    },
    "language_info": {
      "name": "python"
    }
  },
  "cells": [
    {
      "cell_type": "markdown",
      "metadata": {
        "id": "view-in-github",
        "colab_type": "text"
      },
      "source": [
        "<a href=\"https://colab.research.google.com/github/Priyanshi-Data-Art/Data-structure/blob/main/OOPS_Assignment.ipynb\" target=\"_parent\"><img src=\"https://colab.research.google.com/assets/colab-badge.svg\" alt=\"Open In Colab\"/></a>"
      ]
    },
    {
      "cell_type": "markdown",
      "source": [
        "# 1). What are the five key concepts of Object-Oriented Programming (OOP)?"
      ],
      "metadata": {
        "id": "rS1Wita5HPbv"
      }
    },
    {
      "cell_type": "markdown",
      "source": [
        "The five key concepts of Object-Oriented Programming (OOP) are:\n",
        "\n",
        "**Class**: A blueprint or template for creating objects. It defines the structure and behavior (properties and methods) of the objects.\n",
        "\n",
        "**Object**: An instance of a class. Objects are individual units that store data and have functionality defined by their class.\n",
        "\n",
        "**Encapsulation**: The concept of bundling data (attributes) and methods (functions) that operate on that data into a single unit (class). It also involves controlling access to the data using access modifiers like private, protected, and public.\n",
        "\n",
        "**Inheritance**: The process by which one class (child/subclass) can inherit properties and methods from another class (parent/superclass). It promotes code reuse and helps in building relationships between classes.\n",
        "\n",
        "**Polymorphism**: The ability of different classes to respond to the same method call in different ways. It allows one interface to be used for a general class of actions, where the specific action depends on the object calling it (e.g., method overriding, method overloading)."
      ],
      "metadata": {
        "id": "dKR07RTQHaP4"
      }
    },
    {
      "cell_type": "markdown",
      "source": [
        "# 2). Write a Python class for a `Car` with attributes for `make`, `model`, and `year`. Include a method to display the car's information."
      ],
      "metadata": {
        "id": "zsKMvcH58p3R"
      }
    },
    {
      "cell_type": "code",
      "source": [
        "class Car:\n",
        "  def __init__(self):\n",
        "   self.make = \"Maruti\"\n",
        "   self.model = \"suzuki\"\n",
        "   self.year = 2035\n",
        "  def get_info(self):\n",
        "    print(f\"The car model is {self.model}, make is {self.make} and the year of car is {self.year}\")\n",
        "\n",
        "objc = Car()\n",
        "objc.get_info()   # getting information by function\n",
        "objc.make         # by variable"
      ],
      "metadata": {
        "colab": {
          "base_uri": "https://localhost:8080/",
          "height": 53
        },
        "id": "CUeRRXu6947J",
        "outputId": "eb3ad9fc-25ef-4faf-fdaf-40592b4c98b5"
      },
      "execution_count": null,
      "outputs": [
        {
          "output_type": "stream",
          "name": "stdout",
          "text": [
            "The car model is suzuki, make is Maruti and the year of car is 2035\n"
          ]
        },
        {
          "output_type": "execute_result",
          "data": {
            "text/plain": [
              "'Maruti'"
            ],
            "application/vnd.google.colaboratory.intrinsic+json": {
              "type": "string"
            }
          },
          "metadata": {},
          "execution_count": 4
        }
      ]
    },
    {
      "cell_type": "markdown",
      "source": [
        "# 3). Explain the difference between instance methods and class methods. Provide an example of each."
      ],
      "metadata": {
        "id": "7IhYEKR_iDjJ"
      }
    },
    {
      "cell_type": "markdown",
      "source": [
        "In Python, both instance methods and class methods are used to define the behavior of a class, but they differ in how they operate and what kind of data they can access.\n",
        "\n",
        "1. **Instance Methods**:\n",
        "\n",
        "\n",
        "**Definition**: Instance methods operate on an instance of the class. They can access and modify the instance variables (i.e., attributes specific to the object).\n",
        "\n",
        "**How to define**: These methods take self as their first parameter, which refers to the instance calling the method.\n",
        "\n",
        "\n",
        "**Use Case**: Used when you need to access or modify the data associated with a specific object.\n",
        "\n",
        "\n",
        "Example:\n",
        "\n",
        "\n",
        "\n"
      ],
      "metadata": {
        "id": "nytV4X0JiF9X"
      }
    },
    {
      "cell_type": "code",
      "source": [
        "class Employee:\n",
        "    def __init__(self, name, salary):\n",
        "        self.name = name      # Instance variable\n",
        "        self.salary = salary  # Instance variable\n",
        "\n",
        "    # Instance method\n",
        "    def display_info(self):\n",
        "        print(f\"Employee Name: {self.name}, Salary: {self.salary}\")\n",
        "\n",
        "# Creating an instance of the Employee class\n",
        "emp1 = Employee(\"Alice\", 50000)\n",
        "emp1.display_info()  # Output: Employee Name: Alice, Salary: 50000\n"
      ],
      "metadata": {
        "colab": {
          "base_uri": "https://localhost:8080/"
        },
        "id": "ZvNFfIbyimhX",
        "outputId": "4f6bf285-912d-4019-f343-b2d26ee76339"
      },
      "execution_count": null,
      "outputs": [
        {
          "output_type": "stream",
          "name": "stdout",
          "text": [
            "Employee Name: Alice, Salary: 50000\n"
          ]
        }
      ]
    },
    {
      "cell_type": "markdown",
      "source": [
        "2.**Class Methods**:\n",
        "\n",
        "\n",
        "**Definition**: Class methods operate on the class itself rather than on instances of the class. They can access and modify class variables (shared across all instances of the class), but they cannot access or modify instance variables.\n",
        "\n",
        "\n",
        "**How to define**: These methods take cls (representing the class) as their first parameter, and they are decorated with @classmethod.\n",
        "\n",
        "\n",
        "**Use Case**: Used when you want to perform operations related to the class as a whole rather than specific instances.\n",
        "\n",
        "\n",
        "Example:"
      ],
      "metadata": {
        "id": "NW7Pz3Twiroi"
      }
    },
    {
      "cell_type": "code",
      "source": [
        "class Employee:\n",
        "    company_name = \"ABC Corp\"  # Class variable\n",
        "\n",
        "    def __init__(self, name, salary):\n",
        "        self.name = name\n",
        "        self.salary = salary\n",
        "\n",
        "    @classmethod\n",
        "    # Class method\n",
        "    def set_company_name(cls, name):\n",
        "        cls.company_name = name\n",
        "\n",
        "    def display_info(self):\n",
        "        print(f\"Employee Name: {self.name}, Salary: {self.salary}, Company: {Employee.company_name}\")\n",
        "\n",
        "# Modifying class-level data using class method\n",
        "Employee.set_company_name(\"XYZ Corp\")\n",
        "\n",
        "# Creating instances of the Employee class\n",
        "emp1 = Employee(\"Alice\", 50000)\n",
        "emp2 = Employee(\"Bob\", 60000)\n",
        "\n",
        "emp1.display_info()  # Output: Employee Name: Alice, Salary: 50000, Company: XYZ Corp\n",
        "emp2.display_info()  # Output: Employee Name: Bob, Salary: 60000, Company: XYZ Corp\n"
      ],
      "metadata": {
        "colab": {
          "base_uri": "https://localhost:8080/"
        },
        "id": "WxVEeOl2i3ZH",
        "outputId": "faa31a5c-0514-49ad-ba6e-46d194e31c9e"
      },
      "execution_count": null,
      "outputs": [
        {
          "output_type": "stream",
          "name": "stdout",
          "text": [
            "Employee Name: Alice, Salary: 50000, Company: XYZ Corp\n",
            "Employee Name: Bob, Salary: 60000, Company: XYZ Corp\n"
          ]
        }
      ]
    },
    {
      "cell_type": "markdown",
      "source": [
        "# 4). How does Python implement method overloading? Give an example."
      ],
      "metadata": {
        "id": "513ByrFLjBcl"
      }
    },
    {
      "cell_type": "markdown",
      "source": [
        "1). **method overloading**-> It happens in same class, when function having same name but different parameter but in python true method overloading can not be achieved.\n",
        "\n",
        "Example of polymorphism by method overloading->"
      ],
      "metadata": {
        "id": "gY_I-UgBjTk9"
      }
    },
    {
      "cell_type": "code",
      "source": [
        "class info:\n",
        "  def info_details(self, name=\"--\", age=\"--\", address=\"--\"):\n",
        "    print(f\"Here is optional details given below:- \\n Name => \\t {name} \\n Age => \\t {age} \\n Address => \\t {address}\" )\n",
        "\n",
        "obj = info()\n",
        "obj.info_details(\"Ajay\", 25) #Here we can skip any argument to pass\n",
        "\n"
      ],
      "metadata": {
        "colab": {
          "base_uri": "https://localhost:8080/"
        },
        "id": "N8Zc3bPnjg8m",
        "outputId": "3ba635e7-2727-476f-906e-560fd1f03ef0"
      },
      "execution_count": null,
      "outputs": [
        {
          "output_type": "stream",
          "name": "stdout",
          "text": [
            "Here is optional details given below:- \n",
            " Name => \t Ajay \n",
            " Age => \t 25 \n",
            " Address => \t --\n"
          ]
        }
      ]
    },
    {
      "cell_type": "markdown",
      "source": [
        "# 5). What are the three types of access modifiers in Python? How are they denoted?"
      ],
      "metadata": {
        "id": "j_8qbqgrZ_L8"
      }
    },
    {
      "cell_type": "markdown",
      "source": [
        "Access modifiers define the accessibility of class members (attributes and methods) and control the level of visibility.\n",
        "\n",
        "In Python, there are three types of access modifiers:-\n",
        "\n",
        "\n",
        "1.   Public\n",
        "2.   Private\n",
        "3.   Protected\n",
        "\n",
        "Let's understand each access modifiers in brief:-\n",
        "\n",
        "**Public**:- It is by default access modifiers in Python. In Public access modifiers we can modify the variable or data from any where in code.\n",
        "\n",
        "Denoted by:- No underscores.\n",
        "\n",
        "Example:-\n",
        "\n",
        "\n",
        "\n",
        "\n",
        "\n",
        "\n",
        "\n",
        "\n"
      ],
      "metadata": {
        "id": "Vqig9hGFaC4q"
      }
    },
    {
      "cell_type": "code",
      "source": [
        "class Family:\n",
        "  def __init__(self):\n",
        "    self.child = 3\n",
        "    self.member = 5\n",
        "\n",
        "  def info(self):\n",
        "    print(f\"Total Member :- {self.member} and Total child :- {self.child}\")\n",
        "\n",
        "a=Family()\n",
        "print(\"access the child varible :-\",a.child)   # access the variable from public class\n",
        "print(\"access the member varible :-\",a.member) # access the variable from public class\n",
        "a.info()  # access the Function from public class\n",
        "\n",
        "\n",
        "#here we can modify as well from outside:-\n",
        "a.child = 6\n",
        "print(\"Modify the variable from outside, Now child is :-\",a.child)\n"
      ],
      "metadata": {
        "colab": {
          "base_uri": "https://localhost:8080/"
        },
        "id": "sKb9vH60be56",
        "outputId": "1202e2d1-6805-4383-de7c-5ca143448bdd"
      },
      "execution_count": null,
      "outputs": [
        {
          "output_type": "stream",
          "name": "stdout",
          "text": [
            "access the child varible :- 3\n",
            "access the member varible :- 5\n",
            "Total Member :- 5 and Total child :- 3\n",
            "Modify the variable from outside, Now child is :- 6\n"
          ]
        }
      ]
    },
    {
      "cell_type": "markdown",
      "source": [
        "**Private**:- In Private access modifiers we can not modify the variable or data from any where in code. Members that are meant to be hidden from outside access and can only be accessed within the class. Python performs name mangling to achieve this.\n",
        "\n",
        "Denoted by:- It denoted by __ (double underscore)\n",
        "\n",
        "Example:-"
      ],
      "metadata": {
        "id": "EYrhda0GeBxx"
      }
    },
    {
      "cell_type": "code",
      "source": [
        "class Final_Marks:\n",
        "  def __init__(self):\n",
        "    self.__English_Marks = 85\n",
        "    self.__Maths_Marks = 96\n",
        "    self.__Science_Marks = 89\n",
        "    self.__IT_Marks = 87\n",
        "    self.__Statistics_Marks = 84\n",
        "  def get(self):\n",
        "    print(f\"Here is your proper Marksheet:-\\n\\n English_Marks:-\\t {self.__English_Marks}\\n Maths_Marks:-\\t\\t {self.__Maths_Marks}\\n Science_Marks:- \\t {self.__Science_Marks}\\n IT_Marks:-\\t\\t {self.__IT_Marks}\\n Statistics_Marks:-\\t {self.__Statistics_Marks} \")\n",
        "\n",
        "obj1= Final_Marks()\n",
        "obj1.get()                  #here we can access by class function only not by directly private variable\n",
        "\n",
        "# obj1.English_Marks  this will thrown an error\n",
        "\n",
        "\n",
        "\n"
      ],
      "metadata": {
        "colab": {
          "base_uri": "https://localhost:8080/"
        },
        "id": "vxt_FXNvejvZ",
        "outputId": "27887ad4-c1b7-4b33-8d28-6ecd78987fab"
      },
      "execution_count": null,
      "outputs": [
        {
          "output_type": "stream",
          "name": "stdout",
          "text": [
            "Here is your proper Marksheet:-\n",
            "\n",
            " English_Marks:-\t 85\n",
            " Maths_Marks:-\t\t 96\n",
            " Science_Marks:- \t 89\n",
            " IT_Marks:-\t\t 87\n",
            " Statistics_Marks:-\t 84 \n"
          ]
        }
      ]
    },
    {
      "cell_type": "markdown",
      "source": [
        "**Protected**:\n",
        "Members that should only be accessible within the class and its subclasses. In practice, it is just a convention to indicate that these members should not be accessed directly from outside the class.\n",
        "\n",
        "\n",
        "Denoted by: A single leading underscore _.\n",
        "\n",
        "\n",
        "Example"
      ],
      "metadata": {
        "id": "psXC4Mg4hVmU"
      }
    },
    {
      "cell_type": "code",
      "source": [
        "class MyClass:\n",
        "    def __init__(self):\n",
        "        self._protected_var = \"I am a protected variable\"\n",
        "\n",
        "    def _protected_method(self):\n",
        "        print(\"I am a protected method\")\n",
        "\n",
        "obj = MyClass()\n",
        "print(obj._protected_var)  # Can be accessed, but discouraged\n",
        "obj._protected_method()    # Can be accessed, but discouraged\n"
      ],
      "metadata": {
        "colab": {
          "base_uri": "https://localhost:8080/"
        },
        "id": "oC2k5k_AhkaO",
        "outputId": "9006fc5a-fdbb-4e5e-aca9-0afe52cd70d1"
      },
      "execution_count": null,
      "outputs": [
        {
          "output_type": "stream",
          "name": "stdout",
          "text": [
            "I am a protected variable\n",
            "I am a protected method\n"
          ]
        }
      ]
    },
    {
      "cell_type": "markdown",
      "source": [
        "# 6). Describe the five types of inheritance in Python. Provide a simple example of multiple inheritance."
      ],
      "metadata": {
        "id": "jQk-jym91tsl"
      }
    },
    {
      "cell_type": "markdown",
      "source": [
        "Inheritance is one of the most important concept of object oriented languege. In inheritance, we have define parent class and their sub-classes where sub-class has derived the properties of thier parent class.\n",
        "\n",
        "By using inheritance child class can access the properties of their parent class.\n",
        "\n",
        "There are five types of Inheritance in Python:-\\\n",
        "1) **Single-level Inheritance** :- When a child class acquire the properties from only one parent class that is know as Single-level Inheritance.\n",
        "\n"
      ],
      "metadata": {
        "id": "gtXVh6GE1xps"
      }
    },
    {
      "cell_type": "markdown",
      "source": [
        " *Parent Class  -> Child Class*\n",
        "      \n",
        "\n",
        "\n",
        "\n",
        "\n"
      ],
      "metadata": {
        "id": "baPqNQD-3PqT"
      }
    },
    {
      "cell_type": "markdown",
      "source": [
        "Example by code:-"
      ],
      "metadata": {
        "id": "y2RFUaMt380g"
      }
    },
    {
      "cell_type": "code",
      "source": [
        "class Parent:\n",
        "  def Parent_info(self):\n",
        "    print(\"I am inside Parent class\")\n",
        "class child(Parent):\n",
        "  def Child_info(self):\n",
        "    print(\"I am inside child class\")\n",
        "\n",
        "obj = child()\n",
        "obj.Parent_info()\n",
        "obj.Child_info()"
      ],
      "metadata": {
        "colab": {
          "base_uri": "https://localhost:8080/"
        },
        "id": "4_W5Utyw3OyF",
        "outputId": "d688cb35-81cb-4762-9138-c8c378a418b1"
      },
      "execution_count": null,
      "outputs": [
        {
          "output_type": "stream",
          "name": "stdout",
          "text": [
            "I am inside Parent class\n",
            "I am inside child class\n"
          ]
        }
      ]
    },
    {
      "cell_type": "markdown",
      "source": [
        "2) **Multi-level Inheritance** :- When a child class acquire the properties from only one parent class and that parent class aquire the properties from another parent class that is know as Multi-level Inheritance."
      ],
      "metadata": {
        "id": "1CVtzFcA47w0"
      }
    },
    {
      "cell_type": "markdown",
      "source": [
        "Grand Parent->   Parent ->Child"
      ],
      "metadata": {
        "id": "TPobgkhp5QBy"
      }
    },
    {
      "cell_type": "code",
      "source": [
        "class classes:\n",
        "  def info(self):\n",
        "    print(\"I am a in 10th class\")\n",
        "class Subject(classes):\n",
        "  def Subject_info(self):\n",
        "    print(\"I have 5 subject\")\n",
        "class Mark(Subject):\n",
        "  def Mark_info(self):\n",
        "    print(\"I score good marks\")\n",
        "\n",
        "obj = Mark()\n",
        "obj.info()\n",
        "obj.Subject_info()\n",
        "obj.Mark_info()\n"
      ],
      "metadata": {
        "colab": {
          "base_uri": "https://localhost:8080/"
        },
        "id": "ofw70oJo3RzS",
        "outputId": "c6ff940a-4564-449e-84d6-b1d994230907"
      },
      "execution_count": null,
      "outputs": [
        {
          "output_type": "stream",
          "name": "stdout",
          "text": [
            "I am a in 10th class\n",
            "I have 5 subject\n",
            "I score good marks\n"
          ]
        }
      ]
    },
    {
      "cell_type": "markdown",
      "source": [
        "3) **Multiple Inheritance**:- When two or more child class acquire the properties from only one parent class that is know as Multiple Inheritance."
      ],
      "metadata": {
        "id": "LIvHXpPa7BUW"
      }
    },
    {
      "cell_type": "markdown",
      "source": [
        "                  \n",
        "Parent class ->   \n",
        "\n",
        "             child class 1\n",
        "             child class 2\n",
        "\n",
        "\n",
        "                 "
      ],
      "metadata": {
        "id": "9SQb1LJc7Vaw"
      }
    },
    {
      "cell_type": "code",
      "source": [
        "class Marks:\n",
        "  def __init__(self):\n",
        "    self.class_Total_Marks = \"80%\"\n",
        "\n",
        "class Subject:\n",
        "  def __init__(self):\n",
        "    self.Total_Subject = 5\n",
        "\n",
        "class info(Marks,Subject):\n",
        "  def __init__(self,Class_name):\n",
        "    Marks.__init__(self)\n",
        "    Subject.__init__(self)\n",
        "    self.Class_name = Class_name\n",
        "  def Full_info(self):\n",
        "    print(f\"I teach class {self.Class_name} who have {self.Total_Subject} numbers of subject and scored {self.class_Total_Marks} marks\")\n",
        "\n",
        "obj=info(10)\n",
        "obj.Full_info()\n"
      ],
      "metadata": {
        "colab": {
          "base_uri": "https://localhost:8080/"
        },
        "id": "kVBoZQRb5ZhH",
        "outputId": "0a04fd7a-bffd-4b9a-abf5-b015e252a59a"
      },
      "execution_count": null,
      "outputs": [
        {
          "output_type": "stream",
          "name": "stdout",
          "text": [
            "I teach class 10 who have 5 numbers of subject and scored 80% marks\n"
          ]
        }
      ]
    },
    {
      "cell_type": "markdown",
      "source": [
        "4). **Hierarichal Inheritance**:- Hierarchical inheritance in Python refers to a type of inheritance where multiple child classes inherit from a single parent class."
      ],
      "metadata": {
        "id": "YmgdV3coAZJG"
      }
    },
    {
      "cell_type": "markdown",
      "source": [
        "                       Parent\n",
        "                 /                \\\n",
        "\n",
        "             Child1              Child2\n",
        "\n",
        "                /\\                  /\\\n",
        "        \n",
        "        Child 1   child 2    Child 1   child 2\n"
      ],
      "metadata": {
        "id": "CnkY4WzdA46H"
      }
    },
    {
      "cell_type": "code",
      "source": [
        "# Parent class\n",
        "class Animal:\n",
        "    def speak(self):\n",
        "        print(\"Animal makes a sound\")\n",
        "\n",
        "# Child class 1\n",
        "class Dog(Animal):\n",
        "    def bark(self):\n",
        "        print(\"Dog barks\")\n",
        "\n",
        "# Child class 2\n",
        "class Cat(Animal):\n",
        "    def meow(self):\n",
        "        print(\"Cat meows\")\n",
        "\n",
        "# Creating objects of child classes\n",
        "dog = Dog()\n",
        "cat = Cat()\n",
        "\n",
        "# Both classes can access methods from the parent class\n",
        "dog.speak()   # Output: Animal makes a sound\n",
        "dog.bark()    # Output: Dog barks\n",
        "\n",
        "cat.speak()   # Output: Animal makes a sound\n",
        "cat.meow()    # Output: Cat meows\n"
      ],
      "metadata": {
        "colab": {
          "base_uri": "https://localhost:8080/"
        },
        "id": "4N5UrbAFB4Uo",
        "outputId": "ec0bb5c7-ad28-4ccb-d84e-61fd9560fbb4"
      },
      "execution_count": null,
      "outputs": [
        {
          "output_type": "stream",
          "name": "stdout",
          "text": [
            "Animal makes a sound\n",
            "Dog barks\n",
            "Animal makes a sound\n",
            "Cat meows\n"
          ]
        }
      ]
    },
    {
      "cell_type": "markdown",
      "source": [
        "5). **Hybrid inheritance** in Python is a combination of more than one type of inheritance. It involves multiple inheritance patterns working together in a class hierarchy, such as single, multiple, hierarchical, and multilevel inheritance."
      ],
      "metadata": {
        "id": "SBDlRU_zCMNf"
      }
    },
    {
      "cell_type": "code",
      "source": [
        "# Parent class 1\n",
        "class Vehicle:\n",
        "    def info(self):\n",
        "        print(\"This is a vehicle\")\n",
        "\n",
        "# Parent class 2\n",
        "class Engine:\n",
        "    def engine_info(self):\n",
        "        print(\"Engine information\")\n",
        "\n",
        "\n",
        "class Car(Vehicle, Engine):\n",
        "    def car_info(self):\n",
        "        print(\"This is a car\")\n",
        "\n",
        "\n",
        "class Bike(Vehicle):\n",
        "    def bike_info(self):\n",
        "        print(\"This is a bike\")\n",
        "\n",
        "# Grandchild class inheriting from Car (Multilevel Inheritance)\n",
        "class ElectricCar(Car):\n",
        "    def battery_info(self):\n",
        "        print(\"Battery information for electric car\")\n",
        "\n",
        "# Creating objects of various classes\n",
        "electric_car = ElectricCar()\n",
        "electric_car.info()\n",
        "electric_car.engine_info()\n",
        "electric_car.car_info()\n",
        "electric_car.battery_info()\n",
        "\n",
        "bike = Bike()\n",
        "bike.info()                 # Inherited from Vehicle\n",
        "bike.bike_info()            # Own method\n"
      ],
      "metadata": {
        "colab": {
          "base_uri": "https://localhost:8080/"
        },
        "id": "kja1D-gXB6bO",
        "outputId": "df0bf4e4-cff0-4250-f4f3-9c15c7b51a44"
      },
      "execution_count": null,
      "outputs": [
        {
          "output_type": "stream",
          "name": "stdout",
          "text": [
            "This is a vehicle\n",
            "Engine information\n",
            "This is a car\n",
            "Battery information for electric car\n",
            "This is a vehicle\n",
            "This is a bike\n"
          ]
        }
      ]
    },
    {
      "cell_type": "markdown",
      "source": [
        "# 7). What is the Method Resolution Order (MRO) in Python? How can you retrieve it programmatically?"
      ],
      "metadata": {
        "id": "UvUURpftA9p2"
      }
    },
    {
      "cell_type": "markdown",
      "source": [
        "The Method Resolution Order (MRO) in Python defines the order in which methods are inherited and looked up in a hierarchy of classes. It determines the order in which base classes are searched when executing a method or accessing an attribute, especially in cases of multiple inheritance.\n",
        "\n",
        "You can retrieve the MRO programmatically using the __mro__ attribute or the built-in mro() method.\n",
        "\n",
        "Example:"
      ],
      "metadata": {
        "id": "fRGPVzqlC_2o"
      }
    },
    {
      "cell_type": "code",
      "source": [
        "class A:\n",
        "    pass\n",
        "\n",
        "class B(A):\n",
        "    pass\n",
        "\n",
        "class C(B):\n",
        "    pass\n",
        "\n",
        "print(C.mro())  # Using mro() method\n",
        "print(C.__mro__)  # Using __mro__ attribute\n"
      ],
      "metadata": {
        "colab": {
          "base_uri": "https://localhost:8080/"
        },
        "id": "-SPvS_j-DILS",
        "outputId": "b645150f-ff0b-46d6-fe0c-13b9383b3720"
      },
      "execution_count": 7,
      "outputs": [
        {
          "output_type": "stream",
          "name": "stdout",
          "text": [
            "[<class '__main__.C'>, <class '__main__.B'>, <class '__main__.A'>, <class 'object'>]\n",
            "(<class '__main__.C'>, <class '__main__.B'>, <class '__main__.A'>, <class 'object'>)\n"
          ]
        }
      ]
    },
    {
      "cell_type": "markdown",
      "source": [
        "# 8). Create an abstract base class `Shape` with an abstract method `area()`. Then create two subclasses `Circle` and `Rectangle` that implement the `area()` method."
      ],
      "metadata": {
        "id": "LcXbLdSxDYsy"
      }
    },
    {
      "cell_type": "code",
      "source": [
        "import abc  #To make abstract class, we have to import abc\n",
        "\n",
        "class Shape:\n",
        "  @abc.abstractmethod        #we are using abstractmethod here, To make abstract class\n",
        "  def area(self):\n",
        "    pass\n",
        "\n",
        "class Circle(Shape):\n",
        "  def area(self):\n",
        "    return \"Area of circle is 2(3.14) r^2\"\n",
        "\n",
        "class Rectangle(Shape):\n",
        "  def area(self):\n",
        "    return \"Area of rectangle is l*b\"\n",
        "\n",
        "obja=Circle()\n",
        "objb=Rectangle()\n",
        "print(\"Circle :-\", obja.area())\n",
        "print(\"Rectangle :-\", objb.area())"
      ],
      "metadata": {
        "colab": {
          "base_uri": "https://localhost:8080/"
        },
        "id": "X7PsROg0DcOM",
        "outputId": "5a3142e0-ba11-4fbe-d74f-dd057fae8826"
      },
      "execution_count": null,
      "outputs": [
        {
          "output_type": "stream",
          "name": "stdout",
          "text": [
            "Circle :- Area of circle is 2(3.14) r^2\n",
            "Rectangle :- Area of rectangle is l*b\n"
          ]
        }
      ]
    },
    {
      "cell_type": "markdown",
      "source": [
        "# 9). Demonstrate polymorphism by creating a function that can work with different shape objects to calculate and print their areas."
      ],
      "metadata": {
        "id": "PcAP_JuoHwac"
      }
    },
    {
      "cell_type": "code",
      "source": [
        "# Define the base class Shape\n",
        "class Shape:\n",
        "    def area(self):\n",
        "        pass  # This will be overridden by subclasses\n",
        "\n",
        "# Define a subclass Circle inheriting from Shape\n",
        "class Circle(Shape):\n",
        "    def __init__(self, radius):\n",
        "        self.radius = radius\n",
        "\n",
        "    def area(self):\n",
        "        return 3.14 * (self.radius ** 2)\n",
        "\n",
        "# Define a subclass Rectangle inheriting from Shape\n",
        "class Rectangle(Shape):\n",
        "    def __init__(self, length, width):\n",
        "        self.length = length\n",
        "        self.width = width\n",
        "\n",
        "    def area(self):\n",
        "        return self.length * self.width\n",
        "\n",
        "# Define a subclass Triangle inheriting from Shape\n",
        "class Triangle(Shape):\n",
        "    def __init__(self, base, height):\n",
        "        self.base = base\n",
        "        self.height = height\n",
        "\n",
        "    def area(self):\n",
        "        return 0.5 * self.base * self.height\n",
        "\n",
        "# Function to print the area of any shape\n",
        "def print_area(shape):\n",
        "    print(f\"The area of the {type(shape).__name__} is: {shape.area()}\")\n",
        "\n",
        "# Create objects for different shapes\n",
        "circle = Circle(5)\n",
        "rectangle = Rectangle(4, 6)\n",
        "triangle = Triangle(3, 4)\n",
        "\n",
        "# Use the same function to print the area of different shapes\n",
        "print_area(circle)\n",
        "print_area(rectangle)\n",
        "print_area(triangle)\n"
      ],
      "metadata": {
        "colab": {
          "base_uri": "https://localhost:8080/"
        },
        "id": "4FugzUwwH5Es",
        "outputId": "9f128e43-2842-4093-d62e-d5cd0e1c8e8e"
      },
      "execution_count": 15,
      "outputs": [
        {
          "output_type": "stream",
          "name": "stdout",
          "text": [
            "The area of the Circle is: 78.5\n",
            "The area of the Rectangle is: 24\n",
            "The area of the Triangle is: 6.0\n"
          ]
        }
      ]
    },
    {
      "cell_type": "markdown",
      "source": [
        "# 10). Implement encapsulation in a `BankAccount` class with private attributes for `balance` and `account_number`. Include methods for deposit, withdrawal, and balance inquiry."
      ],
      "metadata": {
        "id": "9v3joQ75TVxa"
      }
    },
    {
      "cell_type": "code",
      "source": [
        "class BankAccount:\n",
        "  def __init__(self):\n",
        "    self.__balance = 1000\n",
        "    self.__account_number = 209757697489\n",
        "\n",
        "  def deposit(self,amount):\n",
        "    self.__balance = self.__balance + amount\n",
        "    print(f\"You have deposited ₹{amount}/- \\n Futher details are given below \\n Account Number:- {self.__account_number}\\n\")\n",
        "\n",
        "  def withdrawal(self,amount):\n",
        "    if amount > self.__balance:\n",
        "      print(\"Balance is not enough to withdrawl\\n\")\n",
        "    else:\n",
        "      self.__balance = self.__balance - amount\n",
        "      print(f\"You have withdrawl ₹{amount}/- \\n Futher details are given below \\n Account Number:- {self.__account_number}\\n\")\n",
        "  def balance_inquiry(self):\n",
        "    print(f\"Your balance amount is ₹{self.__balance}/- \\n Futher details are given below \\n Account Number:- {self.__account_number}\\n\")\n",
        "\n",
        "\n",
        "bank=BankAccount()\n",
        "bank.deposit(1000)\n",
        "\n",
        "bank.balance_inquiry()\n",
        "\n",
        "bank.withdrawal(300)\n",
        "\n",
        "bank.balance_inquiry()\n",
        "\n",
        "bank.deposit(1000)\n",
        "\n",
        "bank.balance_inquiry()\n"
      ],
      "metadata": {
        "colab": {
          "base_uri": "https://localhost:8080/"
        },
        "id": "XuKULpYkTa5T",
        "outputId": "f441ae0f-9e9b-477e-ee05-ed1e7aed9d1f"
      },
      "execution_count": 15,
      "outputs": [
        {
          "output_type": "stream",
          "name": "stdout",
          "text": [
            "You have deposited ₹1000/- \n",
            " Futher details are given below \n",
            " Account Number:- 209757697489\n",
            "\n",
            "Your balance amount is ₹2000/- \n",
            " Futher details are given below \n",
            " Account Number:- 209757697489\n",
            "\n",
            "You have withdrawl ₹300/- \n",
            " Futher details are given below \n",
            " Account Number:- 209757697489\n",
            "\n",
            "Your balance amount is ₹1700/- \n",
            " Futher details are given below \n",
            " Account Number:- 209757697489\n",
            "\n",
            "You have deposited ₹1000/- \n",
            " Futher details are given below \n",
            " Account Number:- 209757697489\n",
            "\n",
            "Your balance amount is ₹2700/- \n",
            " Futher details are given below \n",
            " Account Number:- 209757697489\n",
            "\n"
          ]
        }
      ]
    },
    {
      "cell_type": "markdown",
      "source": [
        "# 11). Write a class that overrides the `__str__` and `__add__` magic methods. What will these methods allow you to do?"
      ],
      "metadata": {
        "id": "N_vBLJWHEElL"
      }
    },
    {
      "cell_type": "code",
      "source": [
        "class CustomClass:\n",
        "    def __init__(self, value):\n",
        "        self.value = value\n",
        "\n",
        "    # Overriding __str__ to define the string representation of the object\n",
        "    def __str__(self):\n",
        "        return f\"CustomClass object with value: {self.value}\"\n",
        "\n",
        "    # Overriding __add__ to define custom behavior for the addition operator (+)\n",
        "    def __add__(self, other):\n",
        "        if isinstance(other, CustomClass):\n",
        "            return CustomClass(self.value + other.value)\n",
        "        else:\n",
        "            raise TypeError(\"Both operands must be instances of CustomClass\")\n",
        "\n",
        "# Example usage:\n",
        "obj1 = CustomClass(10)\n",
        "obj2 = CustomClass(20)\n",
        "\n",
        "# Using __str__ method (when you print the object)\n",
        "print(obj1)  # Output: CustomClass object with value: 10\n",
        "\n",
        "# Using __add__ method (when you add two objects)\n",
        "obj3 = obj1 + obj2\n",
        "print(obj3)  # Output: CustomClass object with value: 30\n"
      ],
      "metadata": {
        "colab": {
          "base_uri": "https://localhost:8080/"
        },
        "id": "POiKPeZIEMXA",
        "outputId": "7c7116fe-a3f2-466d-bcd5-1630b55945c1"
      },
      "execution_count": 8,
      "outputs": [
        {
          "output_type": "stream",
          "name": "stdout",
          "text": [
            "CustomClass object with value: 10\n",
            "CustomClass object with value: 30\n"
          ]
        }
      ]
    },
    {
      "cell_type": "markdown",
      "source": [
        "What these methods allow:\n",
        "\n",
        "__str__: Lets you control how your objects are printed or displayed as strings.\n",
        "\n",
        "__add__: Lets you control how objects are added, enabling customized arithmetic or merging behavior."
      ],
      "metadata": {
        "id": "LMWhsNX5ETqt"
      }
    },
    {
      "cell_type": "markdown",
      "source": [
        "# 12). Create a decorator that measures and prints the execution time of a function."
      ],
      "metadata": {
        "id": "OmXPIHoLFQut"
      }
    },
    {
      "cell_type": "code",
      "source": [
        "import time\n",
        "\n",
        "# Decorator to measure execution time\n",
        "def execution_time_decorator(func):\n",
        "    def wrapper(*args, **kwargs):\n",
        "        start_time = time.time()  # Record the start time\n",
        "        result = func(*args, **kwargs)  # Call the actual function\n",
        "        end_time = time.time()  # Record the end time\n",
        "        execution_time = end_time - start_time  # Calculate the execution time\n",
        "        print(f\"Execution time of {func.__name__}: {execution_time:.4f} seconds\")\n",
        "        return result\n",
        "    return wrapper\n",
        "\n",
        "# Example usage of the decorator\n",
        "@execution_time_decorator\n",
        "def example_function():\n",
        "    for _ in range(1000000):\n",
        "        pass\n",
        "\n",
        "example_function()  # Calling the decorated function\n"
      ],
      "metadata": {
        "colab": {
          "base_uri": "https://localhost:8080/"
        },
        "id": "NePHvTA2EcPN",
        "outputId": "cfe2c9f3-0021-4782-c47e-b436c99220ec"
      },
      "execution_count": 10,
      "outputs": [
        {
          "output_type": "stream",
          "name": "stdout",
          "text": [
            "Execution time of example_function: 0.0289 seconds\n"
          ]
        }
      ]
    },
    {
      "cell_type": "markdown",
      "source": [
        "# 13). Explain the concept of the Diamond Problem in multiple inheritance. How does Python resolve it?"
      ],
      "metadata": {
        "id": "Wn4Kqr2VFm8g"
      }
    },
    {
      "cell_type": "markdown",
      "source": [
        "**Diamond Problem in Multiple Inheritance:**\n",
        "\n",
        "The **Diamond Problem** occurs in programming languages that support multiple inheritance, where a class can inherit from more than one parent class. It refers to a situation where a class inherits from two or more classes that have a common base class, creating a \"diamond\" shape in the inheritance hierarchy.\n",
        "\n",
        "Example:"
      ],
      "metadata": {
        "id": "klibk2PLFsnM"
      }
    },
    {
      "cell_type": "code",
      "source": [
        "class A:\n",
        "    def say_hello(self):\n",
        "        print(\"Hello from A\")\n",
        "\n",
        "class B(A):\n",
        "    def say_hello(self):\n",
        "        print(\"Hello from B\")\n",
        "\n",
        "class C(A):\n",
        "    def say_hello(self):\n",
        "        print(\"Hello from C\")\n",
        "\n",
        "class D(B, C):\n",
        "    pass\n",
        "\n",
        "d = D()\n",
        "d.say_hello()\n"
      ],
      "metadata": {
        "colab": {
          "base_uri": "https://localhost:8080/"
        },
        "id": "3wfu5IIhGvkR",
        "outputId": "07091cc5-7775-4fd4-a48d-178c75507468"
      },
      "execution_count": 13,
      "outputs": [
        {
          "output_type": "stream",
          "name": "stdout",
          "text": [
            "Hello from B\n"
          ]
        }
      ]
    },
    {
      "cell_type": "markdown",
      "source": [
        "**How Python Resolves the Diamond Problem:**\n",
        "\n",
        "-> According to MRO, the order is: D -> B -> C -> A.\n",
        "\n",
        "-> So when d.say_hello() is called, Python will first check class B, then class C, and finally class A, ensuring that it doesn’t call the same class twice and resolves the inheritance order consistently."
      ],
      "metadata": {
        "id": "S_IvT-UpGCgn"
      }
    },
    {
      "cell_type": "markdown",
      "source": [
        "# 14). Write a class method that keeps track of the number of instances created from a class."
      ],
      "metadata": {
        "id": "m-JYmZzWGg6W"
      }
    },
    {
      "cell_type": "code",
      "source": [
        "class MyClass:\n",
        "    instance_count = 0  # Class attribute to keep track of instances\n",
        "\n",
        "    def __init__(self):\n",
        "        MyClass.instance_count += 1  # Increment count when a new instance is created\n",
        "\n",
        "    @classmethod\n",
        "    def get_instance_count(cls):\n",
        "        return cls.instance_count  # Return the current count\n",
        "\n",
        "# Creating instances\n",
        "obj1 = MyClass()\n",
        "obj2 = MyClass()\n",
        "obj3 = MyClass()\n",
        "\n",
        "# Checking the number of instances created\n",
        "print(MyClass.get_instance_count())  # Output: 3\n"
      ],
      "metadata": {
        "colab": {
          "base_uri": "https://localhost:8080/"
        },
        "id": "QZWf7086GiEc",
        "outputId": "1157f00d-a3d2-413b-f934-07d21959575b"
      },
      "execution_count": 12,
      "outputs": [
        {
          "output_type": "stream",
          "name": "stdout",
          "text": [
            "3\n"
          ]
        }
      ]
    },
    {
      "cell_type": "markdown",
      "source": [
        "# 15). Implement a static method in a class that checks if a given year is a leap year."
      ],
      "metadata": {
        "id": "TNdJt31UG348"
      }
    },
    {
      "cell_type": "code",
      "source": [
        "class Year:\n",
        "    @staticmethod\n",
        "    def is_leap_year(year):\n",
        "        if (year % 4 == 0 and year % 100 != 0) or (year % 400 == 0):\n",
        "            return True\n",
        "        else:\n",
        "            return False\n",
        "\n",
        "# Checking if a year is a leap year\n",
        "print(Year.is_leap_year(2024))  # Output: True (Leap Year)\n",
        "print(Year.is_leap_year(2023))  # Output: False (Not a Leap Year)\n"
      ],
      "metadata": {
        "colab": {
          "base_uri": "https://localhost:8080/"
        },
        "id": "jcUI8xgGG_p6",
        "outputId": "28f0edb2-ee5a-47b3-f25d-2edce7a75da1"
      },
      "execution_count": 14,
      "outputs": [
        {
          "output_type": "stream",
          "name": "stdout",
          "text": [
            "True\n",
            "False\n"
          ]
        }
      ]
    }
  ]
}