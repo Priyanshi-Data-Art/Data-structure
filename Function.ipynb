{
  "nbformat": 4,
  "nbformat_minor": 0,
  "metadata": {
    "colab": {
      "provenance": [],
      "authorship_tag": "ABX9TyOaxJU9oVx/iIok8abMfUEu",
      "include_colab_link": true
    },
    "kernelspec": {
      "name": "python3",
      "display_name": "Python 3"
    },
    "language_info": {
      "name": "python"
    }
  },
  "cells": [
    {
      "cell_type": "markdown",
      "metadata": {
        "id": "view-in-github",
        "colab_type": "text"
      },
      "source": [
        "<a href=\"https://colab.research.google.com/github/Priyanshi-Data-Art/Data-structure/blob/main/Function.ipynb\" target=\"_parent\"><img src=\"https://colab.research.google.com/assets/colab-badge.svg\" alt=\"Open In Colab\"/></a>"
      ]
    },
    {
      "cell_type": "code",
      "execution_count": null,
      "metadata": {
        "id": "dPZxo_hY3i7A"
      },
      "outputs": [],
      "source": []
    },
    {
      "cell_type": "markdown",
      "source": [
        "# 1 What is the difference between a function and a method in Python?"
      ],
      "metadata": {
        "id": "tfcACS4h32fJ"
      }
    },
    {
      "cell_type": "markdown",
      "source": [
        "Ans 1). In Python, both functions and methods are blocks of reusable code, but they differ in terms of where and how they are used.\n",
        "\n",
        "Function:-\n",
        "\n",
        "A Function is a block of code in which we defined a task that we can use recursively. It is defined using a keyword **def** .We can call funtion from anywhere in program.\n",
        "\n",
        "It takes argument and return value."
      ],
      "metadata": {
        "id": "i3hmFdXY34KH"
      }
    },
    {
      "cell_type": "markdown",
      "source": [],
      "metadata": {
        "id": "2u5ceWDA-RPN"
      }
    },
    {
      "cell_type": "code",
      "source": [
        "def sq(x):\n",
        "  return x**2\n",
        "\n",
        "sq(9)"
      ],
      "metadata": {
        "colab": {
          "base_uri": "https://localhost:8080/"
        },
        "id": "vPBc-ecl5u9S",
        "outputId": "899453e3-a128-46a1-9594-783d4fe739b2"
      },
      "execution_count": 6,
      "outputs": [
        {
          "output_type": "execute_result",
          "data": {
            "text/plain": [
              "81"
            ]
          },
          "metadata": {},
          "execution_count": 6
        }
      ]
    },
    {
      "cell_type": "markdown",
      "source": [
        "Method:-\n",
        "\n",
        "\n",
        "A method is a function that is associated with an object and belongs to a class. It operates on data that is contained within the object (attributes of the class).\n",
        "\n",
        "\n",
        "Methods are defined **inside a class** using the **def** keyword."
      ],
      "metadata": {
        "id": "wv3OCgyX6C0S"
      }
    },
    {
      "cell_type": "code",
      "source": [
        "class Greeter:\n",
        "    def __init__(self, name):\n",
        "        self.name = name\n",
        "\n",
        "    def greet(self):\n",
        "        return f\"Hello, {self.name}!\"\n",
        "\n",
        "obj = Greeter(\"Alice\")\n",
        "print(obj.greet())  # Output: Hello, Alice!\n"
      ],
      "metadata": {
        "id": "ceYN5PSb6q8o"
      },
      "execution_count": null,
      "outputs": []
    },
    {
      "cell_type": "markdown",
      "source": [
        "# 2.  Explain the concept of function arguments and parameters in Python.\n"
      ],
      "metadata": {
        "id": "7JEWczX86_se"
      }
    },
    {
      "cell_type": "code",
      "source": [],
      "metadata": {
        "id": "sUq_43Cx4-Py"
      },
      "execution_count": null,
      "outputs": []
    },
    {
      "cell_type": "markdown",
      "source": [
        "**Parameters**:-\n",
        "\n",
        "Parameters are the variables listed inside the parentheses in the function definition. They act as placeholders for the values (arguments) that will be passed into the function when it is called."
      ],
      "metadata": {
        "id": "XhnTyvqn7Ikx"
      }
    },
    {
      "cell_type": "code",
      "source": [
        "def Message(name):  # 'name' is the parameter\n",
        "    print(f\"Hello, {name}!\")\n"
      ],
      "metadata": {
        "id": "sJkgeaOb6k5a"
      },
      "execution_count": 3,
      "outputs": []
    },
    {
      "cell_type": "markdown",
      "source": [
        "Arguments:\n",
        "Arguments are the actual values or data you pass into a function when calling it. These values are assigned to the parameters defined in the function.\n"
      ],
      "metadata": {
        "id": "PXKRVGFo9IJi"
      }
    },
    {
      "cell_type": "code",
      "source": [
        "Message(\"Priyanshi\")"
      ],
      "metadata": {
        "colab": {
          "base_uri": "https://localhost:8080/"
        },
        "id": "MTzUCk8l87kR",
        "outputId": "7079ee0f-c492-4c9c-eebe-2751455d4347"
      },
      "execution_count": 5,
      "outputs": [
        {
          "output_type": "stream",
          "name": "stdout",
          "text": [
            "Hello, Priyanshi!\n"
          ]
        }
      ]
    },
    {
      "cell_type": "code",
      "source": [],
      "metadata": {
        "id": "0-XcCLr95s9E"
      },
      "execution_count": null,
      "outputs": []
    },
    {
      "cell_type": "markdown",
      "source": [
        "## Types of Function Arguments in Python:\n",
        "\n",
        "\n",
        "1). Positional Argument:-The values are passed in the same order as the function's parameters.\n",
        "\n"
      ],
      "metadata": {
        "id": "IkrRyYvH9f6B"
      }
    },
    {
      "cell_type": "code",
      "source": [
        "def sub(a, b):\n",
        "    return a - b\n",
        "\n",
        "print(sub(5, 10))  # Output: -5\n",
        "print(sub(10, 5))   # Output : 5"
      ],
      "metadata": {
        "colab": {
          "base_uri": "https://localhost:8080/"
        },
        "id": "ID_V3jqU9zkV",
        "outputId": "8ba6c688-5e50-459e-f559-bacfe2b72000"
      },
      "execution_count": 7,
      "outputs": [
        {
          "output_type": "stream",
          "name": "stdout",
          "text": [
            "-5\n",
            "5\n"
          ]
        }
      ]
    },
    {
      "cell_type": "markdown",
      "source": [
        "2). Keyword Arguments:\n",
        "\n",
        "Keyword arguments are passed by explicitly naming the parameters when calling the function. This makes the function call more readable and avoids confusion with argument order.\n"
      ],
      "metadata": {
        "id": "hQygraxm-mdj"
      }
    },
    {
      "cell_type": "code",
      "source": [
        "def introduce(name, age):\n",
        "    print(f\"My name is {name} and I'm {age} years old.\")\n",
        "\n",
        "introduce(age=25, name=\"Alice\")  # Keyword arguments, order doesn't matter\n"
      ],
      "metadata": {
        "colab": {
          "base_uri": "https://localhost:8080/"
        },
        "id": "RjbqEx4m-pO3",
        "outputId": "38d7a4bc-51e8-4fcd-ba14-bdf670f381a9"
      },
      "execution_count": 9,
      "outputs": [
        {
          "output_type": "stream",
          "name": "stdout",
          "text": [
            "My name is Alice and I'm 25 years old.\n"
          ]
        }
      ]
    },
    {
      "cell_type": "markdown",
      "source": [
        "3). Default Arguments:\n",
        "\n",
        "You can assign a default value to a parameter. If no argument is provided during the function call, the default value is used."
      ],
      "metadata": {
        "id": "nlHHw6gq-Tai"
      }
    },
    {
      "cell_type": "code",
      "source": [
        "def greet(name=\"Guest\"):\n",
        "    print(f\"Hello, {name}!\")\n",
        "\n",
        "greet()           # Output: Hello, Guest! (default argument)\n",
        "greet(\"Alice\")    # Output: Hello, Alice!\n"
      ],
      "metadata": {
        "colab": {
          "base_uri": "https://localhost:8080/"
        },
        "id": "C1yhP7Ks-Yds",
        "outputId": "b6371e0b-f1c6-4da5-9183-c346489977b6"
      },
      "execution_count": 8,
      "outputs": [
        {
          "output_type": "stream",
          "name": "stdout",
          "text": [
            "Hello, Guest!\n",
            "Hello, Alice!\n"
          ]
        }
      ]
    },
    {
      "cell_type": "markdown",
      "source": [
        "# What are the different ways to define and call a function in Python?"
      ],
      "metadata": {
        "id": "sZSfMAvw-9jf"
      }
    },
    {
      "cell_type": "markdown",
      "source": [
        "In Python, there are several ways to define and call functions depending on the purpose and requirements.\n",
        "\n",
        "\n",
        "1) Defining a Function Using def Keyword:-\n",
        "The most common way to define a function is by using the def keyword. The function can have default and more than one argument.\n"
      ],
      "metadata": {
        "id": "CE0DFzNQ_pB3"
      }
    },
    {
      "cell_type": "code",
      "source": [
        "def reverse_string(s):\n",
        "    if type(s) == str:\n",
        "        return s[::-1]\n",
        "    else:\n",
        "        print(\"Please enter string only\")\n",
        ""
      ],
      "metadata": {
        "id": "ThYKAal8_Ab2"
      },
      "execution_count": 10,
      "outputs": []
    },
    {
      "cell_type": "markdown",
      "source": [
        "2) Calling a function:-\n",
        "\n",
        "\n",
        "You can call a function by using its name followed by parentheses, possibly including arguments inside the parentheses."
      ],
      "metadata": {
        "id": "i98i8GA0AXOF"
      }
    },
    {
      "cell_type": "code",
      "source": [
        "reverse_string(\"abc\")"
      ],
      "metadata": {
        "colab": {
          "base_uri": "https://localhost:8080/",
          "height": 36
        },
        "id": "STkgY2_0Ahn-",
        "outputId": "805b7705-631f-4a45-9b4b-18941fd04006"
      },
      "execution_count": 11,
      "outputs": [
        {
          "output_type": "execute_result",
          "data": {
            "text/plain": [
              "'cba'"
            ],
            "application/vnd.google.colaboratory.intrinsic+json": {
              "type": "string"
            }
          },
          "metadata": {},
          "execution_count": 11
        }
      ]
    },
    {
      "cell_type": "markdown",
      "source": [
        "3). Defing using lambda:-\n",
        "\n",
        "Python also supports defining small anonymous functions using lambda expressions."
      ],
      "metadata": {
        "id": "JPmfKQmkAsXe"
      }
    },
    {
      "cell_type": "code",
      "source": [
        "square = lambda x: x ** 2\n",
        "print(square(5))  # Output: 25\n",
        "\n"
      ],
      "metadata": {
        "colab": {
          "base_uri": "https://localhost:8080/"
        },
        "id": "D7ZlgB1yAzdR",
        "outputId": "14d04303-7b38-456c-a8d2-71552d893bf3"
      },
      "execution_count": 12,
      "outputs": [
        {
          "output_type": "stream",
          "name": "stdout",
          "text": [
            "25\n"
          ]
        }
      ]
    },
    {
      "cell_type": "code",
      "source": [],
      "metadata": {
        "id": "4d4r9_iYA0kA"
      },
      "execution_count": null,
      "outputs": []
    },
    {
      "cell_type": "markdown",
      "source": [
        "4). Calling a function recursively:-\n",
        "\n",
        "\n",
        "Functions can call themselves to solve problems that can be broken down into smaller sub-problems. This is known as recursion."
      ],
      "metadata": {
        "id": "COMWJXhZBEkX"
      }
    },
    {
      "cell_type": "code",
      "source": [
        "def factorial(n):\n",
        "    if n == 1:\n",
        "        return 1\n",
        "    else:\n",
        "        return n * factorial(n - 1)\n",
        "\n",
        "print(factorial(5))  # Output: 120\n"
      ],
      "metadata": {
        "id": "cQLBwIw2BHtT"
      },
      "execution_count": null,
      "outputs": []
    },
    {
      "cell_type": "markdown",
      "source": [
        "# What is the purpose of the `return` statement in a Python function?\n",
        "\n",
        "Returning a Value: It allows a function to send a value back to the caller when the function completes its task. This value can then be used or stored by the part of the code that called the function."
      ],
      "metadata": {
        "id": "4Gs1SUpcBaTA"
      }
    },
    {
      "cell_type": "code",
      "source": [
        "def add(a, b):\n",
        "    return a + b  # The return statement sends the sum of a and b back to the caller\n",
        "\n",
        "result = add(5, 3)  # result will hold the value 8\n",
        "print(result)  # Output: 8\n"
      ],
      "metadata": {
        "id": "Clyovhn8BgEJ"
      },
      "execution_count": null,
      "outputs": []
    },
    {
      "cell_type": "markdown",
      "source": [
        "Exiting the Function: When the return statement is executed, the function terminates at that point, even if there is more code after the return statement. Any code following the return will not be executed."
      ],
      "metadata": {
        "id": "77IVEUklBnKS"
      }
    },
    {
      "cell_type": "code",
      "source": [
        "def test():\n",
        "    print(\"Before return\")\n",
        "    return \"Exiting function\"\n",
        "    print(\"After return\")  # This line will not be executed\n",
        "\n",
        "result = test()  # Output: \"Before return\"\n",
        "print(result)  # Output: \"Exiting function\"\n"
      ],
      "metadata": {
        "id": "FNo6nM8pBpzb"
      },
      "execution_count": null,
      "outputs": []
    },
    {
      "cell_type": "markdown",
      "source": [
        "Returning None: If no value is provided with the return statement (or if return is omitted entirely in a function), the function returns None by default."
      ],
      "metadata": {
        "id": "KFtISRQ8Bust"
      }
    },
    {
      "cell_type": "code",
      "source": [
        "def no_return():\n",
        "    print(\"This function does not return anything\")\n",
        "\n",
        "result = no_return()  # Output: \"This function does not return anything\"\n",
        "print(result)  # Output: None\n"
      ],
      "metadata": {
        "colab": {
          "base_uri": "https://localhost:8080/"
        },
        "id": "4qmyv5whBwrw",
        "outputId": "0f93aac0-6323-4d94-b17c-694d196d10b8"
      },
      "execution_count": 13,
      "outputs": [
        {
          "output_type": "stream",
          "name": "stdout",
          "text": [
            "This function does not return anything\n",
            "None\n"
          ]
        }
      ]
    },
    {
      "cell_type": "code",
      "source": [],
      "metadata": {
        "id": "E1XR1zbfBxRF"
      },
      "execution_count": null,
      "outputs": []
    },
    {
      "cell_type": "markdown",
      "source": [
        "# What are iterators in Python and how do they differ from iterables?\n",
        "\n",
        "In Python, iterators and iterables are key concepts used to handle sequences of data, especially in loops and data processing.\n",
        "\n",
        "\n",
        "\n",
        "Iterables:-\n",
        "\n",
        "\n",
        "An iterable is any Python object that can be looped over (iterated). This includes objects like lists, tuples, sets, dictionaries, strings, and even file objects.\n",
        "\n",
        "An iterable must implement the __iter__() method, which returns an iterator object."
      ],
      "metadata": {
        "id": "yQLiAwLwB3km"
      }
    },
    {
      "cell_type": "code",
      "source": [
        "# Lists, tuples, and strings are iterables\n",
        "my_list = [1, 2, 3]\n",
        "my_tuple = (4, 5, 6)\n",
        "my_string = \"hello\"\n"
      ],
      "metadata": {
        "id": "gcorCJs5CIba"
      },
      "execution_count": null,
      "outputs": []
    },
    {
      "cell_type": "markdown",
      "source": [
        "You can loop over an iterable using a for loop:"
      ],
      "metadata": {
        "id": "KPoU7S6bCQvo"
      }
    },
    {
      "cell_type": "code",
      "source": [
        "for item in my_list:\n",
        "    print(item)\n"
      ],
      "metadata": {
        "id": "t8dXWbVICRdv"
      },
      "execution_count": null,
      "outputs": []
    },
    {
      "cell_type": "markdown",
      "source": [
        " Iterators:-\n",
        "\n",
        "\n",
        "\n",
        "An iterator is an object that represents a stream of data; it returns one element at a time when you call next() on it.\n",
        "\n",
        "\n",
        "To qualify as an iterator, an object must implement two methods:\n",
        "\n",
        "\n",
        "__iter__(): Returns the iterator object itself.\n",
        "\n",
        "\n",
        "__next__(): Returns the next element in the sequence. If no more elements are available, it raises a StopIteration exception."
      ],
      "metadata": {
        "id": "TNd-45NiCXIt"
      }
    },
    {
      "cell_type": "code",
      "source": [
        "# Converting a list (iterable) into an iterator\n",
        "my_list = [1, 2, 3]\n",
        "my_iterator = iter(my_list)  # my_iterator is now an iterator\n",
        "\n",
        "# Fetching elements one at a time using next()\n",
        "print(next(my_iterator))  # Output: 1\n",
        "print(next(my_iterator))  # Output: 2\n",
        "print(next(my_iterator))  # Output: 3\n",
        "\n",
        "# Further calls to next() will raise a StopIteration exception\n",
        "# print(next(my_iterator))  # Would raise StopIteration\n"
      ],
      "metadata": {
        "id": "J906puUMCYJD"
      },
      "execution_count": null,
      "outputs": []
    },
    {
      "cell_type": "markdown",
      "source": [
        "In summary:\n",
        "\n",
        "Iterable: An object you can loop over (like lists, strings, etc.).\n",
        "\n",
        "\n",
        "Iterator: An object that produces the next value when requested, using next(). It keeps track of where it is in the sequence."
      ],
      "metadata": {
        "id": "jjdicpAoCkNd"
      }
    },
    {
      "cell_type": "markdown",
      "source": [
        "# Explain the concept of generators in Python and how they are defined.\n",
        "\n",
        "In Python, generators are a special type of iterator that allows you to iterate over a sequence of values lazily, meaning they generate values on the fly without storing them all in memory at once. This makes generators memory efficient, especially when working with large data sets.\n",
        "\n",
        "Generator Functions:\n",
        "\n",
        "\n",
        "A generator function is defined like a normal function but uses the yield keyword instead of return. Each time yield is called, the function’s state is saved, and the value is returned. When the generator is called again (via next()), it resumes where it left off."
      ],
      "metadata": {
        "id": "7PZq3HR_CmOg"
      }
    },
    {
      "cell_type": "code",
      "source": [
        "def simple_generator():\n",
        "    yield 1  # First value\n",
        "    yield 2  # Second value\n",
        "    yield 3  # Third value\n",
        "\n",
        "gen = simple_generator()  # Create the generator object\n",
        "\n",
        "# Fetch values from the generator\n",
        "print(next(gen))  # Output: 1\n",
        "print(next(gen))  # Output: 2\n",
        "print(next(gen))  # Output: 3\n"
      ],
      "metadata": {
        "id": "RVqOAN86C4QF"
      },
      "execution_count": null,
      "outputs": []
    },
    {
      "cell_type": "markdown",
      "source": [
        "The yield Statement:\n",
        "\n",
        "When the yield statement is called, the function's state is \"frozen,\" and the yielded value is returned to the caller.\n",
        "\n",
        "\n",
        "The next time next() is called on the generator, execution resumes from the point right after the last yield."
      ],
      "metadata": {
        "id": "ci2uFpf-C9eg"
      }
    },
    {
      "cell_type": "code",
      "source": [
        "def square_numbers(n):\n",
        "    for i in range(n):\n",
        "        yield i ** 2  # Yield squares of numbers\n",
        "\n",
        "# Create the generator\n",
        "gen = square_numbers(5)\n",
        "\n",
        "# Fetching values one by one\n",
        "for num in gen:\n",
        "    print(num)\n"
      ],
      "metadata": {
        "colab": {
          "base_uri": "https://localhost:8080/"
        },
        "id": "lmYtQYspDEve",
        "outputId": "f178d04d-7229-4a5a-c763-dca41c4a7f4b"
      },
      "execution_count": 14,
      "outputs": [
        {
          "output_type": "stream",
          "name": "stdout",
          "text": [
            "0\n",
            "1\n",
            "4\n",
            "9\n",
            "16\n"
          ]
        }
      ]
    },
    {
      "cell_type": "code",
      "source": [],
      "metadata": {
        "id": "GPbez2K0DFyz"
      },
      "execution_count": null,
      "outputs": []
    },
    {
      "cell_type": "markdown",
      "source": [
        "# What are the advantages of using generators over regular functions?\n",
        "\n",
        "Generators offer several advantages over regular functions, especially when it comes to handling large datasets, improving performance, and managing memory efficiently. Here are some key advantages of using generators over regular functions:\n",
        "\n",
        "###Memory Efficiency:\n",
        "\n",
        "\n",
        "Generators yield values one at a time and don’t store the entire result in memory. This means you can work with large datasets or infinite sequences without consuming too much memory.\n",
        "\n",
        "\n",
        "Regular Functions return all results at once (e.g., as a list), which can consume significant memory when dealing with large amounts of data.\n"
      ],
      "metadata": {
        "id": "h270b8OIDkUE"
      }
    },
    {
      "cell_type": "code",
      "source": [
        "def get_squares(n):\n",
        "    return [i**2 for i in range(n)]  # Consumes memory for the entire list\n",
        "\n",
        "def get_squares_gen(n):\n",
        "    for i in range(n):\n",
        "        yield i**2  # Memory efficient, returns values one by one\n"
      ],
      "metadata": {
        "id": "u8jmc-7gDyi0"
      },
      "execution_count": null,
      "outputs": []
    },
    {
      "cell_type": "markdown",
      "source": [
        "###Lazy Evaluation:\n",
        "\n",
        "Generators produce values lazily, meaning they generate each value only when it’s needed. This can lead to significant performance improvements, especially when processing large or infinite sequences.\n",
        "\n",
        "Regular Functions compute and return the entire result upfront, which can be slow and inefficient if you only need a few values."
      ],
      "metadata": {
        "id": "vTCB39UFD1tG"
      }
    },
    {
      "cell_type": "code",
      "source": [
        "gen = (x**2 for x in range(1000000))  # Generator expression, lazily evaluated\n",
        "\n",
        "print(next(gen))  # Produces only the next value when requested\n"
      ],
      "metadata": {
        "id": "C9aKUldDD5Yk"
      },
      "execution_count": null,
      "outputs": []
    },
    {
      "cell_type": "markdown",
      "source": [
        "###Improved Performance:\n",
        "Generators avoid the overhead of creating and storing large data structures in memory, which can improve performance, especially when dealing with large datasets.\n",
        "\n",
        "\n",
        "Regular Functions may take longer to execute since they generate and store all results at once before returning."
      ],
      "metadata": {
        "id": "NFY33uP9D_cv"
      }
    },
    {
      "cell_type": "markdown",
      "source": [
        "###Handling Infinite Sequences:\n",
        "Generators can handle infinite sequences gracefully because they only produce values as requested. This makes them suitable for situations where you need to process data streams or potentially unbounded data.\n",
        "\n",
        "Regular Functions cannot handle infinite sequences because they would attempt to compute and store all values at once, leading to memory exhaustion."
      ],
      "metadata": {
        "id": "fuUq2ZAiEHpg"
      }
    },
    {
      "cell_type": "code",
      "source": [
        "def infinite_counter():\n",
        "    n = 0\n",
        "    while True:\n",
        "        yield n\n",
        "        n += 1\n",
        "\n",
        "counter = infinite_counter()\n",
        "print(next(counter))  # 0\n",
        "print(next(counter))  # 1\n"
      ],
      "metadata": {
        "id": "Riq2mKOtEL5W"
      },
      "execution_count": null,
      "outputs": []
    },
    {
      "cell_type": "markdown",
      "source": [
        "###Simpler Code for Iteration:\n",
        "Generators make it easier to write clean, readable code for iteration. With yield, you don’t need to maintain and return large intermediate data structures.\n",
        "\n",
        "\n",
        "Regular Functions require you to manually create and manage data structures for iteration, which can make the code more complex and harder to follow."
      ],
      "metadata": {
        "id": "onnaNDdTEQed"
      }
    },
    {
      "cell_type": "code",
      "source": [
        "# Generator function\n",
        "def fibonacci_gen():\n",
        "    a, b = 0, 1\n",
        "    while True:\n",
        "        yield a\n",
        "        a, b = b, a + b\n",
        "\n",
        "fib = fibonacci_gen()\n",
        "print(next(fib))  # 0\n",
        "print(next(fib))  # 1\n"
      ],
      "metadata": {
        "id": "UenVRfttEUf9"
      },
      "execution_count": null,
      "outputs": []
    },
    {
      "cell_type": "code",
      "source": [],
      "metadata": {
        "id": "TSEMRCgzEV3E"
      },
      "execution_count": null,
      "outputs": []
    },
    {
      "cell_type": "markdown",
      "source": [
        "#What is a lambda function in Python and when is it typically used?\n",
        "\n",
        "A lambda function in Python is a small, anonymous function defined using the lambda keyword. It's often used when you need a quick function for a short period of time, without the need to formally define it using def."
      ],
      "metadata": {
        "id": "eGQdRKPyEf6A"
      }
    },
    {
      "cell_type": "code",
      "source": [
        "lambda arguments: expression\n"
      ],
      "metadata": {
        "id": "36ApHITwFIRe"
      },
      "execution_count": null,
      "outputs": []
    },
    {
      "cell_type": "markdown",
      "source": [
        "arguments: The inputs to the function (can be zero or more).\n",
        "\n",
        "\n",
        "expression: A single expression that is evaluated and returned.\n",
        "\n",
        "\n",
        "Example:\n",
        "Here's a lambda function that adds two numbers:"
      ],
      "metadata": {
        "id": "2v69dhyfFNMQ"
      }
    },
    {
      "cell_type": "code",
      "source": [
        "add = lambda x, y: x + y\n",
        "print(add(5, 3))  # Output: 8\n"
      ],
      "metadata": {
        "id": "gv3niQn3FN1s"
      },
      "execution_count": 14,
      "outputs": []
    },
    {
      "cell_type": "markdown",
      "source": [
        "This is equivalent to writing:"
      ],
      "metadata": {
        "id": "-K_qLVIwFaeN"
      }
    },
    {
      "cell_type": "code",
      "source": [
        "def add(x, y):\n",
        "    return x + y\n"
      ],
      "metadata": {
        "id": "MX8aovewFdIZ"
      },
      "execution_count": null,
      "outputs": []
    },
    {
      "cell_type": "markdown",
      "source": [
        "When Is It Typically Used?\n",
        "\n",
        "\n",
        "In-place Function for Short Tasks:\n",
        "\n",
        "Lambdas are handy when you need a quick function to be used just once or within another function call. They are often used in places where defining a full function would feel unnecessary.\n",
        "\n",
        "\n",
        "Example:"
      ],
      "metadata": {
        "id": "pBMFQ3WzFi-t"
      }
    },
    {
      "cell_type": "code",
      "source": [
        "numbers = [1, 2, 3, 4, 5]\n",
        "squared = list(map(lambda x: x ** 2, numbers))\n",
        "print(squared)  # Output: [1, 4, 9, 16, 25]\n"
      ],
      "metadata": {
        "id": "MUeaeozoFmkz"
      },
      "execution_count": null,
      "outputs": []
    },
    {
      "cell_type": "markdown",
      "source": [
        "As a Key for Sorting:\n",
        "\n",
        "Lambdas are commonly used in sorting operations where you need to sort by a specific part of an element."
      ],
      "metadata": {
        "id": "Ke_YnsJ_G2Be"
      }
    },
    {
      "cell_type": "code",
      "source": [
        "students = [('Alice', 25), ('Bob', 22), ('Charlie', 23)]\n",
        "students_sorted = sorted(students, key=lambda x: x[1])  # Sort by age\n",
        "print(students_sorted)  # Output: [('Bob', 22), ('Charlie', 23), ('Alice', 25)]\n"
      ],
      "metadata": {
        "id": "BKF3643NG74f"
      },
      "execution_count": null,
      "outputs": []
    },
    {
      "cell_type": "markdown",
      "source": [
        "In Functions like map(), filter(), and reduce():\n",
        "\n",
        "Lambda functions are often used with higher-order functions like map(), filter(), and reduce(), which take a function as an argument to apply to each element of a list or iterable"
      ],
      "metadata": {
        "id": "1_13RYAwG_JW"
      }
    },
    {
      "cell_type": "markdown",
      "source": [
        "numbers = [1, 2, 3, 4, 5, 6]\n",
        "even_numbers = list(filter(lambda x: x % 2 == 0, numbers))\n",
        "print(even_numbers)  # Output: [2, 4, 6]\n"
      ],
      "metadata": {
        "id": "yOuc3-GBHEbo"
      }
    },
    {
      "cell_type": "markdown",
      "source": [
        "Key Points:\n",
        "\n",
        "\n",
        "Lambda functions are concise but limited to a single expression.\n",
        "\n",
        "\n",
        "They are useful for simple, quick operations, especially when used as arguments to other functions.\n",
        "Unlike regular functions, lambda functions don't have a name (hence \"anonymous\")."
      ],
      "metadata": {
        "id": "8NlH4e1THIM3"
      }
    },
    {
      "cell_type": "markdown",
      "source": [
        " #Explain the purpose and usage of the `map()` function in Python.\n",
        "\n",
        " The map() function in Python is used to apply a given function to each item of an iterable (like a list, tuple, or string) and returns a map object (which is an iterator). It is particularly useful when you need to transform or process each element of a collection in a uniform way."
      ],
      "metadata": {
        "id": "gpiyDIujHPBm"
      }
    },
    {
      "cell_type": "code",
      "source": [
        "map(function, iterable, ...)\n"
      ],
      "metadata": {
        "id": "FB2IZn2eHhB_"
      },
      "execution_count": null,
      "outputs": []
    },
    {
      "cell_type": "markdown",
      "source": [
        "function: A function that is applied to each element of the iterable.\n",
        "\n",
        "\n",
        "iterable: One or more iterables (lists, tuples, etc.) whose elements will be passed to the function.\n",
        "\n",
        "\n",
        "If multiple iterables are passed, the function should accept that many arguments."
      ],
      "metadata": {
        "id": "yFmVWktfHkKt"
      }
    },
    {
      "cell_type": "markdown",
      "source": [
        "Example Usage:\n"
      ],
      "metadata": {
        "id": "iZSvng2THsq0"
      }
    },
    {
      "cell_type": "code",
      "source": [
        "def square(x):\n",
        "    return x * 2\n",
        "\n",
        "numbers = [1, 2, 3, 4, 5]\n",
        "result = map(square, numbers)\n",
        "\n",
        "print(list(result))  # Output: [2, 4, 6, 8, 10]\n"
      ],
      "metadata": {
        "id": "J42OLSZLHzYn"
      },
      "execution_count": null,
      "outputs": []
    },
    {
      "cell_type": "markdown",
      "source": [
        "Using lambda with map(): You can use a lambda function directly inside the map() function, especially for simple operations."
      ],
      "metadata": {
        "id": "Bb_7Vc4NH2JV"
      }
    },
    {
      "cell_type": "code",
      "source": [
        "numbers = [1, 2, 3, 4, 5]\n",
        "result = map(lambda x: x ** 2, numbers)\n",
        "print(list(result))  # Output: [1, 4, 9, 16, 25]\n"
      ],
      "metadata": {
        "id": "MICWL3voH39G"
      },
      "execution_count": null,
      "outputs": []
    },
    {
      "cell_type": "markdown",
      "source": [
        "Using Multiple Iterables:\n",
        "\n",
        "\n",
        "If you provide multiple iterables to map(), the function should accept that many arguments, and map() will apply the function to corresponding elements from each iterable."
      ],
      "metadata": {
        "id": "NyQuiH75H64J"
      }
    },
    {
      "cell_type": "code",
      "source": [
        "numbers1 = [1, 2, 3]\n",
        "numbers2 = [4, 5, 6]\n",
        "\n",
        "result = map(lambda x, y: x + y, numbers1, numbers2)\n",
        "print(list(result))  # Output: [5, 7, 9]\n"
      ],
      "metadata": {
        "id": "jiWj7WFjH-re"
      },
      "execution_count": null,
      "outputs": []
    },
    {
      "cell_type": "markdown",
      "source": [
        "#What is the difference between `map()`, `reduce()`, and `filter()` functions in Python?\n",
        "\n",
        "map(), reduce(), and filter() are all functional programming tools in Python that operate on iterables but serve different purposes. Here's a breakdown of each:\n",
        "\n",
        "1. map() Purpose:\n",
        "\n",
        "Applies a given function to each item of an iterable (or multiple iterables) and returns an iterator that produces the results.\n",
        "Usage: When you need to transform or process each element of an iterable in a uniform way.\n",
        "Syntax: map(function, iterable, ...)\n",
        "Returns: An iterator (often converted to a list or other iterable for display)."
      ],
      "metadata": {
        "id": "nQtII97zIGpI"
      }
    },
    {
      "cell_type": "code",
      "source": [
        "numbers = [1, 2, 3, 4]\n",
        "squared = map(lambda x: x ** 2, numbers)\n",
        "print(list(squared))  # Output: [1, 4, 9, 16]\n"
      ],
      "metadata": {
        "id": "_rA8b7q7IYPh"
      },
      "execution_count": null,
      "outputs": []
    },
    {
      "cell_type": "markdown",
      "source": [
        "reduce() Purpose:\n",
        "\n",
        " Applies a given function cumulatively to the items of an iterable, from left to right, so as to reduce the iterable to a single value.\n",
        "\n",
        "Usage: When you need to perform a cumulative operation on elements of an iterable, like summing all items or finding the product of all items.\n",
        "Syntax: reduce(function, iterable[, initializer])"
      ],
      "metadata": {
        "id": "WvbnwLb5IaW0"
      }
    },
    {
      "cell_type": "code",
      "source": [
        "from functools import reduce\n",
        "\n",
        "numbers = [1, 2, 3, 4]\n",
        "product = reduce(lambda x, y: x * y, numbers)\n",
        "print(product)  # Output: 24\n"
      ],
      "metadata": {
        "id": "RF4JRoGlIjPI"
      },
      "execution_count": null,
      "outputs": []
    },
    {
      "cell_type": "markdown",
      "source": [
        "filter() Purpose:\n",
        "\n",
        "Filters elements of an iterable based on a given function that returns True or False, and returns an iterator with the elements that satisfy the condition.\n",
        "Usage: When you need to exclude certain elements from an iterable based on a condition.\n",
        "\n",
        "\n",
        "Syntax: filter(function, iterable)\n",
        "Returns: An iterator containing only the elements that satisfy the condition."
      ],
      "metadata": {
        "id": "2mi4aeFHIq3r"
      }
    },
    {
      "cell_type": "markdown",
      "source": [],
      "metadata": {
        "id": "PnsKKIWIIugC"
      }
    },
    {
      "cell_type": "code",
      "source": [
        "numbers = [1, 2, 3, 4, 5]\n",
        "even_numbers = filter(lambda x: x % 2 == 0, numbers)\n",
        "print(list(even_numbers))  # Output: [2, 4]\n"
      ],
      "metadata": {
        "id": "KGZnDUtfIxkU"
      },
      "execution_count": null,
      "outputs": []
    },
    {
      "cell_type": "markdown",
      "source": [
        "Comparison:\n",
        "\n",
        "\n",
        "map() transforms elements of an iterable, applying a function to each item and returning the results.\n",
        "\n",
        "reduce() reduces an iterable to a single cumulative value, applying a function that combines elements together.\n",
        "\n",
        "filter() filters elements of an iterable based on a condition, returning only those that meet the criteria."
      ],
      "metadata": {
        "id": "9aMWun1GI03T"
      }
    },
    {
      "cell_type": "markdown",
      "source": [
        "#11). Using pen & Paper write the internal mechanism for sum operation using  reduce function on this given list:[47,11,42,13];\n",
        "\n",
        "\n",
        "Ans 11. To understand the internal mechanism of the reduce function for the sum operation on the list [47, 11, 42, 13], we can break down how the reduce function works step by step.\n",
        "\n",
        "\n",
        "The reduce function applies a binary function (a function that takes two arguments) cumulatively to the items of an iterable, from left to right, so as to reduce the iterable to a single value.\n",
        "\n",
        "\n",
        "Here’s how you would perform the sum operation using reduce with the given list:\n",
        "\n",
        "\n",
        "**Step-by-Step Mechanism **\n",
        "\n",
        "1). Initialize:\n",
        "\n",
        "The binary function used is lambda x, y: x + y (which represents addition).\n",
        "The list is [47, 11, 42, 13].\n",
        "\n",
        "2). Apply the function cumulatively:\n",
        "\n",
        "Start with the first two elements: 47 and 11."
      ],
      "metadata": {
        "id": "F6MLD1o7JKUC"
      }
    },
    {
      "cell_type": "code",
      "source": [
        "intermediate_result = 47 + 11  # Results in 58\n"
      ],
      "metadata": {
        "id": "shTP5eldJngU"
      },
      "execution_count": null,
      "outputs": []
    },
    {
      "cell_type": "markdown",
      "source": [
        "Use this result to combine with the next element in the list: 42."
      ],
      "metadata": {
        "id": "JpqfxzrnJr-u"
      }
    },
    {
      "cell_type": "code",
      "source": [
        "intermediate_result = 58 + 42  # Results in 100\n"
      ],
      "metadata": {
        "id": "9Jl8zaMRJunD"
      },
      "execution_count": null,
      "outputs": []
    },
    {
      "cell_type": "markdown",
      "source": [
        "Use this result to combine with the final element in the list: 13."
      ],
      "metadata": {
        "id": "5748qIlGJ1kE"
      }
    },
    {
      "cell_type": "code",
      "source": [
        "final_result = 100 + 13  # Results in 113\n"
      ],
      "metadata": {
        "id": "mnC38qDZJzmF"
      },
      "execution_count": null,
      "outputs": []
    },
    {
      "cell_type": "markdown",
      "source": [
        "The reduce function sequentially applies the lambda function to the elements of the list:\n",
        "\n",
        "1). First, it computes 47 + 11 resulting in 58.\n",
        "\n",
        "2). Then, it computes 58 + 42 resulting in 100.\n",
        "\n",
        "3). Finally, it computes 100 + 13 resulting in 113.\n",
        "\n",
        "\n",
        "Thus, the final result after applying the reduce function with the sum operation on the list [47, 11, 42, 13] is 113."
      ],
      "metadata": {
        "id": "iKRBrIg8KA4S"
      }
    },
    {
      "cell_type": "markdown",
      "source": [
        ""
      ],
      "metadata": {
        "id": "n_rdnLEuFpD2"
      }
    }
  ]
}